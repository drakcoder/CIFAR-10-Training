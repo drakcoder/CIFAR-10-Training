{
 "cells": [
  {
   "cell_type": "code",
   "execution_count": 9,
   "metadata": {},
   "outputs": [],
   "source": [
    "import cv2\n",
    "import numpy as np\n",
    "import keras\n",
    "from keras.models import Sequential\n",
    "from keras.utils import np_utils\n",
    "from keras.layers import Conv2D,MaxPooling2D,Flatten,Dense,Dropout,BatchNormalization\n",
    "from keras.optimizers import SGD\n",
    "from PIL import Image"
   ]
  },
  {
   "cell_type": "code",
   "execution_count": 1,
   "metadata": {},
   "outputs": [],
   "source": [
    "def load_data(batchNumber):\n",
    "    f=np.load('./unpickled_data/data_'+str(batchNumber)+'.npy')\n",
    "    l=np.load('./unpickled_data/labels_'+str(batchNumber)+'.npy')\n",
    "    f=f.reshape(10000,3,32,32).transpose(0,2,3,1)\n",
    "    return f,l\n"
   ]
  },
  {
   "cell_type": "code",
   "execution_count": 3,
   "metadata": {},
   "outputs": [],
   "source": [
    "features=[]\n",
    "labels=[]\n",
    "for i in range(1,6):\n",
    "    f,l=load_data(i)\n",
    "    features.extend(f)\n",
    "    labels.extend(l)\n",
    "features=np.array(features)\n",
    "labels=np.array(labels)"
   ]
  },
  {
   "cell_type": "code",
   "execution_count": 21,
   "metadata": {},
   "outputs": [],
   "source": [
    "X_train=features\n",
    "X_train=X_train.astype('float32')/255\n",
    "Y_train=labels"
   ]
  },
  {
   "cell_type": "code",
   "execution_count": 22,
   "metadata": {},
   "outputs": [],
   "source": [
    "Y_train=keras.utils.to_categorical(Y_train,10)"
   ]
  },
  {
   "cell_type": "code",
   "execution_count": 45,
   "metadata": {},
   "outputs": [],
   "source": [
    "from keras.models import load_model\n",
    "\n"
   ]
  },
  {
   "cell_type": "code",
   "execution_count": 34,
   "metadata": {},
   "outputs": [
    {
     "name": "stdout",
     "output_type": "stream",
     "text": [
      "Model: \"sequential_3\"\n",
      "_________________________________________________________________\n",
      "Layer (type)                 Output Shape              Param #   \n",
      "=================================================================\n",
      "conv2d_11 (Conv2D)           (None, 32, 32, 16)        208       \n",
      "_________________________________________________________________\n",
      "max_pooling2d_11 (MaxPooling (None, 16, 16, 16)        0         \n",
      "_________________________________________________________________\n",
      "dropout_12 (Dropout)         (None, 16, 16, 16)        0         \n",
      "_________________________________________________________________\n",
      "conv2d_12 (Conv2D)           (None, 16, 16, 32)        2080      \n",
      "_________________________________________________________________\n",
      "max_pooling2d_12 (MaxPooling (None, 8, 8, 32)          0         \n",
      "_________________________________________________________________\n",
      "dropout_13 (Dropout)         (None, 8, 8, 32)          0         \n",
      "_________________________________________________________________\n",
      "conv2d_13 (Conv2D)           (None, 8, 8, 64)          8256      \n",
      "_________________________________________________________________\n",
      "max_pooling2d_13 (MaxPooling (None, 4, 4, 64)          0         \n",
      "_________________________________________________________________\n",
      "dropout_14 (Dropout)         (None, 4, 4, 64)          0         \n",
      "_________________________________________________________________\n",
      "flatten_3 (Flatten)          (None, 1024)              0         \n",
      "_________________________________________________________________\n",
      "dense_14 (Dense)             (None, 500)               512500    \n",
      "_________________________________________________________________\n",
      "dropout_15 (Dropout)         (None, 500)               0         \n",
      "_________________________________________________________________\n",
      "dense_15 (Dense)             (None, 10)                5010      \n",
      "=================================================================\n",
      "Total params: 528,054\n",
      "Trainable params: 528,054\n",
      "Non-trainable params: 0\n",
      "_________________________________________________________________\n"
     ]
    }
   ],
   "source": [
    "model=Sequential()\n",
    "model.add(Conv2D(filters=16,kernel_size=2,padding='same',activation='relu',input_shape=(32,32,3)))\n",
    "model.add(MaxPooling2D(pool_size=2))\n",
    "# model.add(Dropout(0.2))\n",
    "model.add(Conv2D(filters=32,kernel_size=2,padding='same',activation='relu'))\n",
    "model.add(MaxPooling2D(pool_size=2))\n",
    "# model.add(Dropout(0.2))\n",
    "model.add(Conv2D(filters=64,kernel_size=2,padding='same',activation='relu'))\n",
    "model.add(MaxPooling2D(pool_size=2))\n",
    "model.add(Dropout(0.2))\n",
    "model.add(Flatten())\n",
    "model.add(Dense(500,activation='relu'))\n",
    "model.add(Dropout(0.2))\n",
    "model.add(Dense(10,activation='softmax'))\n",
    "model.summary()"
   ]
  },
  {
   "cell_type": "code",
   "execution_count": 35,
   "metadata": {},
   "outputs": [],
   "source": [
    "model.compile(loss='categorical_crossentropy', optimizer='adam', metrics=['accuracy'])"
   ]
  },
  {
   "cell_type": "code",
   "execution_count": 36,
   "metadata": {},
   "outputs": [
    {
     "name": "stdout",
     "output_type": "stream",
     "text": [
      "Epoch 1/20\n",
      "1000/1000 [==============================] - 25s 25ms/step - loss: 1.6652 - accuracy: 0.39150s - loss: 1.6697 - ac\n",
      "Epoch 2/20\n",
      "1000/1000 [==============================] - 24s 24ms/step - loss: 1.3699 - accuracy: 0.5051\n",
      "Epoch 3/20\n",
      "1000/1000 [==============================] - 22s 22ms/step - loss: 1.2573 - accuracy: 0.5491\n",
      "Epoch 4/20\n",
      "1000/1000 [==============================] - 23s 23ms/step - loss: 1.1829 - accuracy: 0.5766\n",
      "Epoch 5/20\n",
      "1000/1000 [==============================] - 23s 23ms/step - loss: 1.1208 - accuracy: 0.5985\n",
      "Epoch 6/20\n",
      "1000/1000 [==============================] - 28s 28ms/step - loss: 1.0709 - accuracy: 0.6174\n",
      "Epoch 7/20\n",
      "1000/1000 [==============================] - 27s 27ms/step - loss: 1.0278 - accuracy: 0.6334\n",
      "Epoch 8/20\n",
      "1000/1000 [==============================] - 26s 26ms/step - loss: 0.9965 - accuracy: 0.6462\n",
      "Epoch 9/20\n",
      "1000/1000 [==============================] - 24s 24ms/step - loss: 0.9580 - accuracy: 0.6584\n",
      "Epoch 10/20\n",
      "1000/1000 [==============================] - 23s 23ms/step - loss: 0.9322 - accuracy: 0.6690\n",
      "Epoch 11/20\n",
      "1000/1000 [==============================] - 26s 26ms/step - loss: 0.9081 - accuracy: 0.6765\n",
      "Epoch 12/20\n",
      "1000/1000 [==============================] - 26s 26ms/step - loss: 0.8820 - accuracy: 0.6875\n",
      "Epoch 13/20\n",
      "1000/1000 [==============================] - 26s 26ms/step - loss: 0.8540 - accuracy: 0.6949\n",
      "Epoch 14/20\n",
      "1000/1000 [==============================] - 24s 24ms/step - loss: 0.8376 - accuracy: 0.7016\n",
      "Epoch 15/20\n",
      "1000/1000 [==============================] - 23s 23ms/step - loss: 0.8146 - accuracy: 0.7103\n",
      "Epoch 16/20\n",
      "1000/1000 [==============================] - 25s 25ms/step - loss: 0.8016 - accuracy: 0.7133\n",
      "Epoch 17/20\n",
      "1000/1000 [==============================] - 25s 25ms/step - loss: 0.7871 - accuracy: 0.7198\n",
      "Epoch 18/20\n",
      "1000/1000 [==============================] - 26s 26ms/step - loss: 0.7694 - accuracy: 0.7235\n",
      "Epoch 19/20\n",
      "1000/1000 [==============================] - 28s 28ms/step - loss: 0.7548 - accuracy: 0.7306\n",
      "Epoch 20/20\n",
      "1000/1000 [==============================] - 24s 24ms/step - loss: 0.7441 - accuracy: 0.7335\n"
     ]
    },
    {
     "data": {
      "text/plain": [
       "<tensorflow.python.keras.callbacks.History at 0x1ea0f9ad2e0>"
      ]
     },
     "execution_count": 36,
     "metadata": {},
     "output_type": "execute_result"
    }
   ],
   "source": [
    "model.fit(X_train,Y_train,batch_size=50,epochs=20,verbose=1)"
   ]
  },
  {
   "cell_type": "code",
   "execution_count": 29,
   "metadata": {},
   "outputs": [],
   "source": [
    "model.save('./models/architecture_1/model_1.h5')"
   ]
  },
  {
   "cell_type": "code",
   "execution_count": 31,
   "metadata": {},
   "outputs": [],
   "source": [
    "X_test=np.load('./unpickled_data/X_test.npy')\n",
    "Y_test=np.load('./unpickled_data/Y_test.npy')"
   ]
  },
  {
   "cell_type": "code",
   "execution_count": 32,
   "metadata": {},
   "outputs": [
    {
     "name": "stdout",
     "output_type": "stream",
     "text": [
      "(10000, 32, 32, 3) (10000, 10)\n"
     ]
    }
   ],
   "source": [
    "X_test=X_test.reshape(10000,3,32,32).transpose(0,2,3,1)\n",
    "X_test=X_test.astype('float32')/255\n",
    "Y_test=keras.utils.to_categorical(Y_test,10)\n",
    "print(X_test.shape,Y_test.shape)"
   ]
  },
  {
   "cell_type": "code",
   "execution_count": 37,
   "metadata": {},
   "outputs": [
    {
     "name": "stdout",
     "output_type": "stream",
     "text": [
      "313/313 [==============================] - 1s 4ms/step - loss: 0.8307 - accuracy: 0.7114\n"
     ]
    }
   ],
   "source": [
    "accuracy=model.evaluate(X_test,Y_test)"
   ]
  },
  {
   "cell_type": "code",
   "execution_count": 38,
   "metadata": {},
   "outputs": [
    {
     "name": "stdout",
     "output_type": "stream",
     "text": [
      "71.13999724388123\n"
     ]
    }
   ],
   "source": [
    "print(accuracy[1]*100)"
   ]
  },
  {
   "cell_type": "code",
   "execution_count": null,
   "metadata": {},
   "outputs": [],
   "source": []
  }
 ],
 "metadata": {
  "kernelspec": {
   "display_name": "Python 3",
   "language": "python",
   "name": "python3"
  },
  "language_info": {
   "codemirror_mode": {
    "name": "ipython",
    "version": 3
   },
   "file_extension": ".py",
   "mimetype": "text/x-python",
   "name": "python",
   "nbconvert_exporter": "python",
   "pygments_lexer": "ipython3",
   "version": "3.8.3"
  }
 },
 "nbformat": 4,
 "nbformat_minor": 4
}
